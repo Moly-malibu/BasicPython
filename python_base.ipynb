{
  "nbformat": 4,
  "nbformat_minor": 0,
  "metadata": {
    "colab": {
      "name": "python_base.ipynb",
      "provenance": [],
      "collapsed_sections": [],
      "authorship_tag": "ABX9TyNbYVaDiWCURtfDWDHnfLfd"
    },
    "kernelspec": {
      "name": "python3",
      "display_name": "Python 3"
    }
  },
  "cells": [
    {
      "cell_type": "code",
      "metadata": {
        "colab": {
          "base_uri": "https://localhost:8080/"
        },
        "id": "kLbXqGXg4N7E",
        "outputId": "5ba5b581-f522-4b45-e639-7d9c9a1a2b7b"
      },
      "source": [
        "list = [ 1, 2, 3, 4, 5, 6, 7, 8, 9,10]\n",
        "\n",
        "list.pop(-1)\n",
        "\n",
        "item = list[-1]\n",
        "for i in list:\n",
        "  print(i)"
      ],
      "execution_count": 7,
      "outputs": [
        {
          "output_type": "stream",
          "text": [
            "1\n",
            "2\n",
            "3\n",
            "4\n",
            "5\n",
            "6\n",
            "7\n",
            "8\n",
            "9\n"
          ],
          "name": "stdout"
        }
      ]
    },
    {
      "cell_type": "code",
      "metadata": {
        "colab": {
          "base_uri": "https://localhost:8080/"
        },
        "id": "SYCHJuOq4gPA",
        "outputId": "2a9aa30a-42a4-47b0-9df0-bb70a3e61437"
      },
      "source": [
        "list = [ 1, 2, 3, 4, 5, 6, 7, 8, 9,10]\n",
        "\n",
        "del list[-1]\n",
        "\n",
        "for i in list:\n",
        "  print(i)"
      ],
      "execution_count": 10,
      "outputs": [
        {
          "output_type": "stream",
          "text": [
            "1\n",
            "2\n",
            "3\n",
            "4\n",
            "5\n",
            "6\n",
            "7\n",
            "8\n",
            "9\n"
          ],
          "name": "stdout"
        }
      ]
    },
    {
      "cell_type": "code",
      "metadata": {
        "colab": {
          "base_uri": "https://localhost:8080/"
        },
        "id": "577Sq77L5fVH",
        "outputId": "daa6ea4f-e4d3-4926-9ee0-5a538494c748"
      },
      "source": [
        "list = [ 1, 2, 3, 4, 5, 6, 7, 8, 9,10]\n",
        "\n",
        "item = list[-1]\n",
        "print(item)"
      ],
      "execution_count": 15,
      "outputs": [
        {
          "output_type": "stream",
          "text": [
            "10\n"
          ],
          "name": "stdout"
        }
      ]
    },
    {
      "cell_type": "code",
      "metadata": {
        "colab": {
          "base_uri": "https://localhost:8080/"
        },
        "id": "sLT6syfB6Ykt",
        "outputId": "6ab9f1ef-565f-4425-8305-ed7536fa8db6"
      },
      "source": [
        "list = [ 1, 2, 3, 4, 5, 6, 7, 8, 9,10]\n",
        "\n",
        "# list[start:end:stop]\n",
        "\n",
        "print(list[1:-2]) #start\n",
        "print(list[-7:-2]) #end\n",
        "print(list[1:]) #step\n",
        "print(list[:]) #imprimir todos los numeros\n",
        "print(list[2:-1:2])\n",
        "print(list[::-1]) #print en reverse or de mayor a menor"
      ],
      "execution_count": 26,
      "outputs": [
        {
          "output_type": "stream",
          "text": [
            "[2, 3, 4, 5, 6, 7, 8]\n",
            "[4, 5, 6, 7, 8]\n",
            "[2, 3, 4, 5, 6, 7, 8, 9, 10]\n",
            "[1, 2, 3, 4, 5, 6, 7, 8, 9, 10]\n",
            "[3, 5, 7, 9]\n",
            "[10, 9, 8, 7, 6, 5, 4, 3, 2, 1]\n"
          ],
          "name": "stdout"
        }
      ]
    },
    {
      "cell_type": "code",
      "metadata": {
        "colab": {
          "base_uri": "https://localhost:8080/"
        },
        "id": "U4Ax-LXI6iBH",
        "outputId": "1d022f08-365f-422b-8ce0-f338d453ff05"
      },
      "source": [
        "sample_url = 'https://coreyms.com/'\n",
        "print(sample_url)\n",
        "print(sample_url[::-1]) #printe en reversed\n",
        "print(sample_url[-4:]) #print domein (cuenta las letras y la numeracion que uno le pida eso imprime)\n",
        "print(sample_url[7:]) #print segun la ubicacion que uno le ponga\n",
        "print(sample_url[7:-4])"
      ],
      "execution_count": 32,
      "outputs": [
        {
          "output_type": "stream",
          "text": [
            "https://coreyms.com/\n",
            "/moc.smyeroc//:sptth\n",
            "com/\n",
            "/coreyms.com/\n"
          ],
          "name": "stdout"
        }
      ]
    },
    {
      "cell_type": "code",
      "metadata": {
        "colab": {
          "base_uri": "https://localhost:8080/"
        },
        "id": "2T-InT6-9ukr",
        "outputId": "db72439a-a1c2-43ca-94ab-a30d25fe9653"
      },
      "source": [
        "courses = ['h', 'm', 'p', 'c']\n",
        "courses.append('art') #insertar art\n",
        "courses.insert(0,'art') #position donde quiero que me inserte el dato\n",
        "print(courses)"
      ],
      "execution_count": 37,
      "outputs": [
        {
          "output_type": "stream",
          "text": [
            "['art', 'h', 'm', 'p', 'c', 'art']\n"
          ],
          "name": "stdout"
        }
      ]
    },
    {
      "cell_type": "code",
      "metadata": {
        "colab": {
          "base_uri": "https://localhost:8080/"
        },
        "id": "WuXm1BKy-xWo",
        "outputId": "d696ee0e-81bb-4ddb-97f4-9167dd5b79ff"
      },
      "source": [
        "courses = ['h', 'm', 'p', 'c']\n",
        "courses2 = ['art', 'e']\n",
        "courses.insert(0, courses2) #insertar dos base de datos con la posicion donde quiero que queden, como subconjunto\n",
        "print(courses)"
      ],
      "execution_count": 40,
      "outputs": [
        {
          "output_type": "stream",
          "text": [
            "[['art', 'e'], 'h', 'm', 'p', 'c']\n"
          ],
          "name": "stdout"
        }
      ]
    },
    {
      "cell_type": "code",
      "metadata": {
        "colab": {
          "base_uri": "https://localhost:8080/"
        },
        "id": "rnyyuw4QFrbd",
        "outputId": "80c944a2-ee48-422a-9640-648fa98fc698"
      },
      "source": [
        "courses = ['h', 'm', 'p', 'c']\n",
        "courses2 = ['art', 'e']\n",
        "courses.extend(courses2) #insertar a la base de datos 1 la base de datos dos\n",
        "print(courses)"
      ],
      "execution_count": 42,
      "outputs": [
        {
          "output_type": "stream",
          "text": [
            "['h', 'm', 'p', 'c', 'art', 'e']\n"
          ],
          "name": "stdout"
        }
      ]
    },
    {
      "cell_type": "code",
      "metadata": {
        "colab": {
          "base_uri": "https://localhost:8080/"
        },
        "id": "VqqhXVtXF9_Z",
        "outputId": "f8259cbe-6abc-439d-f779-f0df0ad33f21"
      },
      "source": [
        "courses = ['h', 'm', 'p', 'c']\n",
        "courses.remove('h') #remove item\n",
        "print(courses)"
      ],
      "execution_count": 43,
      "outputs": [
        {
          "output_type": "stream",
          "text": [
            "['m', 'p', 'c']\n"
          ],
          "name": "stdout"
        }
      ]
    },
    {
      "cell_type": "code",
      "metadata": {
        "colab": {
          "base_uri": "https://localhost:8080/"
        },
        "id": "rcmadJe-GXnA",
        "outputId": "389a10f0-903c-4f0a-f20d-d623965e57d3"
      },
      "source": [
        "courses = ['h', 'm', 'p', 'c']\n",
        "courses.pop() #remove ilast item\n",
        "print(courses)"
      ],
      "execution_count": 44,
      "outputs": [
        {
          "output_type": "stream",
          "text": [
            "['h', 'm', 'p']\n"
          ],
          "name": "stdout"
        }
      ]
    },
    {
      "cell_type": "code",
      "metadata": {
        "colab": {
          "base_uri": "https://localhost:8080/"
        },
        "id": "nrolpst2GdJe",
        "outputId": "8610acab-6e67-495a-d62c-859af6069178"
      },
      "source": [
        "courses = ['h', 'm', 'p', 'c']\n",
        "poppop = courses.pop() #remove last item\n",
        "print(poppop) #show what item delete\n",
        "print(courses)"
      ],
      "execution_count": 46,
      "outputs": [
        {
          "output_type": "stream",
          "text": [
            "c\n",
            "['h', 'm', 'p']\n"
          ],
          "name": "stdout"
        }
      ]
    },
    {
      "cell_type": "code",
      "metadata": {
        "colab": {
          "base_uri": "https://localhost:8080/"
        },
        "id": "Chm2DchtG1_e",
        "outputId": "639a248a-9cba-4525-c899-05f82673c8ba"
      },
      "source": [
        "courses = ['h', 'm', 'p', 'c']\n",
        "courses.reverse() #reverse items\n",
        "print(courses)"
      ],
      "execution_count": 47,
      "outputs": [
        {
          "output_type": "stream",
          "text": [
            "['c', 'p', 'm', 'h']\n"
          ],
          "name": "stdout"
        }
      ]
    },
    {
      "cell_type": "code",
      "metadata": {
        "colab": {
          "base_uri": "https://localhost:8080/"
        },
        "id": "zd4MdE1mG8WH",
        "outputId": "45252765-6e10-4652-a23d-dc309b678919"
      },
      "source": [
        "courses = ['h', 'm', 'p', 'c']\n",
        "courses.sort() #sort item\n",
        "print(courses)"
      ],
      "execution_count": 48,
      "outputs": [
        {
          "output_type": "stream",
          "text": [
            "['c', 'h', 'm', 'p']\n"
          ],
          "name": "stdout"
        }
      ]
    },
    {
      "cell_type": "code",
      "metadata": {
        "colab": {
          "base_uri": "https://localhost:8080/"
        },
        "id": "ONKK9eu8HEYg",
        "outputId": "723130cf-b1f9-4ed0-c4a4-eb1fdf6f986a"
      },
      "source": [
        "courses = [1,2,5,4,6,10,9,8]\n",
        "courses.sort(reverse=True) #sort item\n",
        "print(courses)"
      ],
      "execution_count": 60,
      "outputs": [
        {
          "output_type": "stream",
          "text": [
            "[10, 9, 8, 6, 5, 4, 2, 1]\n"
          ],
          "name": "stdout"
        }
      ]
    },
    {
      "cell_type": "code",
      "metadata": {
        "colab": {
          "base_uri": "https://localhost:8080/"
        },
        "id": "-z7Jf-spHZIq",
        "outputId": "04653a49-d694-4c7f-df0a-9a24b4a8fd9b"
      },
      "source": [
        "courses = ['h', 'm', 'p', 'c']\n",
        "courses.sort(reverse=True) #sort item\n",
        "print(courses)"
      ],
      "execution_count": 50,
      "outputs": [
        {
          "output_type": "stream",
          "text": [
            "['p', 'm', 'h', 'c']\n"
          ],
          "name": "stdout"
        }
      ]
    },
    {
      "cell_type": "code",
      "metadata": {
        "colab": {
          "base_uri": "https://localhost:8080/"
        },
        "id": "RYCzuTyuIdV1",
        "outputId": "962d3a70-536d-40c5-827b-569fd09d2ce8"
      },
      "source": [
        "courses = [1,2,5,4,6,10,9,8]\n",
        "sorted(courses)"
      ],
      "execution_count": 61,
      "outputs": [
        {
          "output_type": "execute_result",
          "data": {
            "text/plain": [
              "[1, 2, 4, 5, 6, 8, 9, 10]"
            ]
          },
          "metadata": {
            "tags": []
          },
          "execution_count": 61
        }
      ]
    },
    {
      "cell_type": "code",
      "metadata": {
        "colab": {
          "base_uri": "https://localhost:8080/"
        },
        "id": "XKQ8toCAItUq",
        "outputId": "df33cc9a-6dc3-4fdb-c5f1-eb71bf0d0f46"
      },
      "source": [
        "courses = [1,2,5,4,6,10,9,8]\n",
        "sorteC = sorted(courses)\n",
        "print(sorteC)"
      ],
      "execution_count": 62,
      "outputs": [
        {
          "output_type": "stream",
          "text": [
            "[1, 2, 4, 5, 6, 8, 9, 10]\n"
          ],
          "name": "stdout"
        }
      ]
    },
    {
      "cell_type": "code",
      "metadata": {
        "colab": {
          "base_uri": "https://localhost:8080/"
        },
        "id": "oImwog6PI87t",
        "outputId": "1c06424d-5c88-4463-be88-5f7a0501dc56"
      },
      "source": [
        "courses = [1,2,5,4,6,10,9,8]\n",
        "nums= sorted(courses)\n",
        "\n",
        "print(min(nums))\n",
        "print(max(nums))\n",
        "print(sum(nums))"
      ],
      "execution_count": 65,
      "outputs": [
        {
          "output_type": "stream",
          "text": [
            "1\n",
            "10\n",
            "45\n"
          ],
          "name": "stdout"
        }
      ]
    },
    {
      "cell_type": "code",
      "metadata": {
        "colab": {
          "base_uri": "https://localhost:8080/"
        },
        "id": "GZG22qeDJVYD",
        "outputId": "ebd784e5-00e3-4476-8453-a52fe9490df7"
      },
      "source": [
        "courses = ['h', 'm', 'p', 'c']\n",
        "print(courses.index('p')) #to see if item is in de list or position in the list"
      ],
      "execution_count": 67,
      "outputs": [
        {
          "output_type": "stream",
          "text": [
            "2\n"
          ],
          "name": "stdout"
        }
      ]
    },
    {
      "cell_type": "code",
      "metadata": {
        "colab": {
          "base_uri": "https://localhost:8080/"
        },
        "id": "YR7HQAYRJoSe",
        "outputId": "5a96e88c-f4cb-49ec-8613-0566d2f302f0"
      },
      "source": [
        "courses = ['h', 'm', 'p', 'c']\n",
        "print('p' in courses) #to see if item is in de list "
      ],
      "execution_count": 70,
      "outputs": [
        {
          "output_type": "stream",
          "text": [
            "True\n"
          ],
          "name": "stdout"
        }
      ]
    },
    {
      "cell_type": "markdown",
      "metadata": {
        "id": "Vi5iRNoSK_Zb"
      },
      "source": [
        "##LIST create Loop"
      ]
    },
    {
      "cell_type": "code",
      "metadata": {
        "colab": {
          "base_uri": "https://localhost:8080/"
        },
        "id": "AdRqgCSoJ_Lj",
        "outputId": "5a483ac9-f05e-41bb-8b40-49ee9694fc14"
      },
      "source": [
        "\n",
        "courses = ['h', 'm', 'p', 'c']\n",
        "for item in courses:\n",
        "  print(item) #Create a loop a list\n",
        "  print('--------')\n",
        "#or\n",
        "\n",
        "courses = ['h', 'm', 'p', 'c']\n",
        "for index, course in enumerate(courses, start=1):\n",
        "  print(index, course) #Create a loop a list\n"
      ],
      "execution_count": 77,
      "outputs": [
        {
          "output_type": "stream",
          "text": [
            "h\n",
            "--------\n",
            "m\n",
            "--------\n",
            "p\n",
            "--------\n",
            "c\n",
            "--------\n",
            "1 h\n",
            "2 m\n",
            "3 p\n",
            "4 c\n"
          ],
          "name": "stdout"
        }
      ]
    },
    {
      "cell_type": "markdown",
      "metadata": {
        "id": "Ev4XToayLCG4"
      },
      "source": [
        "#LIST create str or separed by comma\n"
      ]
    },
    {
      "cell_type": "code",
      "metadata": {
        "colab": {
          "base_uri": "https://localhost:8080/"
        },
        "id": "zOFa0-p-KNNU",
        "outputId": "d7ef3c7d-7703-4699-fd4a-ada41bb76f78"
      },
      "source": [
        "courses = ['h', 'm', 'p', 'c']\n",
        "course_strC = ', '.join(courses) #separar by comma\n",
        "course_strR = ' - '.join(courses) #separar by raya\n",
        "course_strN = course_strR.split(' - ') #volver a list\n",
        "print(course_strC)\n",
        "print(course_strR)\n",
        "print(course_strN)"
      ],
      "execution_count": 82,
      "outputs": [
        {
          "output_type": "stream",
          "text": [
            "h, m, p, c\n",
            "h - m - p - c\n",
            "['h', 'm', 'p', 'c']\n"
          ],
          "name": "stdout"
        }
      ]
    },
    {
      "cell_type": "markdown",
      "metadata": {
        "id": "YxsqrWQQMWlu"
      },
      "source": [
        "# LIST create Tuples.\n",
        "\n",
        "use if we need to modificate something in the dataset"
      ]
    },
    {
      "cell_type": "code",
      "metadata": {
        "colab": {
          "base_uri": "https://localhost:8080/"
        },
        "id": "RzNkBpyzLezb",
        "outputId": "89dc09f7-8174-4648-bc5c-14f9bc31d84e"
      },
      "source": [
        "#Mutable\n",
        "\n",
        "list1 = ['h', 'm', 'p', 'c']\n",
        "list2 = list1\n",
        "\n",
        "print(list1)\n",
        "print(list2)\n",
        "\n"
      ],
      "execution_count": 91,
      "outputs": [
        {
          "output_type": "stream",
          "text": [
            "['h', 'm', 'p', 'c']\n",
            "['h', 'm', 'p', 'c']\n"
          ],
          "name": "stdout"
        }
      ]
    },
    {
      "cell_type": "code",
      "metadata": {
        "colab": {
          "base_uri": "https://localhost:8080/"
        },
        "id": "M_dG0tQPdxAK",
        "outputId": "dd1e7983-dd94-4da6-913b-528b224cbeb7"
      },
      "source": [
        "list1 = ['h', 'm', 'p', 'c']\n",
        "list2 = list1\n",
        "\n",
        "list1[0] = 'a' #include other item in a mutable list\n",
        "print(list1)\n",
        "print(list2)\n",
        "\n"
      ],
      "execution_count": 92,
      "outputs": [
        {
          "output_type": "stream",
          "text": [
            "['a', 'm', 'p', 'c']\n",
            "['a', 'm', 'p', 'c']\n"
          ],
          "name": "stdout"
        }
      ]
    },
    {
      "cell_type": "code",
      "metadata": {
        "colab": {
          "base_uri": "https://localhost:8080/"
        },
        "id": "FjZmpKvcdzhb",
        "outputId": "bba98f74-958c-435f-d683-9b86264450c9"
      },
      "source": [
        "#Inmutable list\n",
        "tuple1 = ['h', 'm', 'p', 'c']\n",
        "tuple2 = tuple1\n",
        "\n",
        "tuple1[0] = 'A'\n",
        "\n",
        "print(tuple1)\n",
        "print(tuple2)"
      ],
      "execution_count": 93,
      "outputs": [
        {
          "output_type": "stream",
          "text": [
            "['A', 'm', 'p', 'c']\n",
            "['A', 'm', 'p', 'c']\n"
          ],
          "name": "stdout"
        }
      ]
    },
    {
      "cell_type": "markdown",
      "metadata": {
        "id": "it8n--dZegju"
      },
      "source": [
        "#Set"
      ]
    },
    {
      "cell_type": "code",
      "metadata": {
        "colab": {
          "base_uri": "https://localhost:8080/"
        },
        "id": "eyFwfoebeZXy",
        "outputId": "b776fa54-b7c4-4214-ff45-c00a99a5fced"
      },
      "source": [
        "cs_set = {'h', 'm', 'p', 'c', 'i'}\n",
        "print(cs_set)"
      ],
      "execution_count": 97,
      "outputs": [
        {
          "output_type": "stream",
          "text": [
            "{'p', 'h', 'c', 'm', 'i'}\n"
          ],
          "name": "stdout"
        }
      ]
    },
    {
      "cell_type": "code",
      "metadata": {
        "colab": {
          "base_uri": "https://localhost:8080/"
        },
        "id": "_HNZjrK-fpdY",
        "outputId": "4a1d44f6-740c-4f55-fc9c-e62a18eaea3b"
      },
      "source": [
        "cs_set = {'h', 'm', 'p', 'c', 'i'}\n",
        "print('m' in cs_set) #identified if set has a item"
      ],
      "execution_count": 98,
      "outputs": [
        {
          "output_type": "stream",
          "text": [
            "True\n"
          ],
          "name": "stdout"
        }
      ]
    },
    {
      "cell_type": "code",
      "metadata": {
        "colab": {
          "base_uri": "https://localhost:8080/"
        },
        "id": "qM-Zz0V_f9An",
        "outputId": "89a2586e-10ea-4bc1-ea17-b071950c80d6"
      },
      "source": [
        "cs_set = {'h', 'm', 'p', 'c', 'i'} #to see what items are same\n",
        "int_set = {'h', 'm', 'p', 'a', 'd'}\n",
        "print(cs_set.intersection(int_set))\n"
      ],
      "execution_count": 100,
      "outputs": [
        {
          "output_type": "stream",
          "text": [
            "{'m', 'h', 'p'}\n"
          ],
          "name": "stdout"
        }
      ]
    },
    {
      "cell_type": "code",
      "metadata": {
        "colab": {
          "base_uri": "https://localhost:8080/"
        },
        "id": "ifmbhbmpgIqT",
        "outputId": "ee21421c-3484-4bfb-f2c4-81c735e42548"
      },
      "source": [
        "cs_set = {'h', 'm', 'p', 'c', 'i'} #to see what items are different\n",
        "int_set = {'h', 'm', 'p', 'a', 'd'}\n",
        "print(cs_set.difference(int_set))"
      ],
      "execution_count": 101,
      "outputs": [
        {
          "output_type": "stream",
          "text": [
            "{'c', 'i'}\n"
          ],
          "name": "stdout"
        }
      ]
    },
    {
      "cell_type": "code",
      "metadata": {
        "colab": {
          "base_uri": "https://localhost:8080/"
        },
        "id": "6sgd637NgZQS",
        "outputId": "891f2bf1-a08b-47b6-b471-15397123c8af"
      },
      "source": [
        "cs_set = {'h', 'm', 'p', 'c', 'i'} #unit bouth set in one.\n",
        "int_set = {'h', 'm', 'p', 'a', 'd'}\n",
        "print(cs_set.union(int_set))"
      ],
      "execution_count": 102,
      "outputs": [
        {
          "output_type": "stream",
          "text": [
            "{'p', 'h', 'd', 'c', 'm', 'a', 'i'}\n"
          ],
          "name": "stdout"
        }
      ]
    },
    {
      "cell_type": "markdown",
      "metadata": {
        "id": "_guHZNfbgqIo"
      },
      "source": [
        "#Create different class of Empthy "
      ]
    },
    {
      "cell_type": "code",
      "metadata": {
        "id": "eAIz9ZH5gn4y"
      },
      "source": [
        "#Empthy list\n",
        "\n",
        "emptyL = []\n",
        "emptyL = list()"
      ],
      "execution_count": null,
      "outputs": []
    },
    {
      "cell_type": "code",
      "metadata": {
        "id": "ILCjdV3Jg5pW"
      },
      "source": [
        "# tuple\n",
        "\n",
        "emptyT = ()\n",
        "emptyT = tuple()\n"
      ],
      "execution_count": null,
      "outputs": []
    },
    {
      "cell_type": "code",
      "metadata": {
        "id": "gcqs53SlhI7T"
      },
      "source": [
        "#Empty set\n",
        "\n",
        "emptyS = {} #dictionary\n",
        "emptyS = set()"
      ],
      "execution_count": null,
      "outputs": []
    }
  ]
}